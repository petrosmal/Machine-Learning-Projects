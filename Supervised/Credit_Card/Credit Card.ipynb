{
 "cells": [
  {
   "cell_type": "code",
   "execution_count": 275,
   "metadata": {},
   "outputs": [],
   "source": [
    "import pandas as pd\n",
    "import numpy as np\n",
    "import seaborn as sns\n",
    "from sklearn.metrics import roc_auc_score\n",
    "from sklearn.metrics import roc_curve\n",
    "import matplotlib.pyplot as plt\n",
    "from imblearn.combine import SMOTETomek\n",
    "from sklearn.datasets import make_classification\n",
    "from sklearn.model_selection import train_test_split\n",
    "from sklearn.metrics import classification_report\n",
    "from sklearn.linear_model import LogisticRegression\n",
    "from sklearn.preprocessing import StandardScaler\n",
    "from imblearn import under_sampling, over_sampling\n",
    "from imblearn.over_sampling import SMOTE\n",
    "from imblearn.under_sampling import RandomUnderSampler\n",
    "from sklearn.preprocessing import StandardScaler"
   ]
  },
  {
   "cell_type": "code",
   "execution_count": 276,
   "metadata": {},
   "outputs": [
    {
     "data": {
      "text/html": [
       "<div>\n",
       "<style scoped>\n",
       "    .dataframe tbody tr th:only-of-type {\n",
       "        vertical-align: middle;\n",
       "    }\n",
       "\n",
       "    .dataframe tbody tr th {\n",
       "        vertical-align: top;\n",
       "    }\n",
       "\n",
       "    .dataframe thead th {\n",
       "        text-align: right;\n",
       "    }\n",
       "</style>\n",
       "<table border=\"1\" class=\"dataframe\">\n",
       "  <thead>\n",
       "    <tr style=\"text-align: right;\">\n",
       "      <th></th>\n",
       "      <th>card</th>\n",
       "      <th>reports</th>\n",
       "      <th>age</th>\n",
       "      <th>income</th>\n",
       "      <th>share</th>\n",
       "      <th>expenditure</th>\n",
       "      <th>owner</th>\n",
       "      <th>selfemp</th>\n",
       "      <th>dependents</th>\n",
       "      <th>months</th>\n",
       "      <th>majorcards</th>\n",
       "      <th>active</th>\n",
       "    </tr>\n",
       "  </thead>\n",
       "  <tbody>\n",
       "    <tr>\n",
       "      <th>0</th>\n",
       "      <td>yes</td>\n",
       "      <td>0</td>\n",
       "      <td>37.66667</td>\n",
       "      <td>4.5200</td>\n",
       "      <td>0.033270</td>\n",
       "      <td>124.983300</td>\n",
       "      <td>yes</td>\n",
       "      <td>no</td>\n",
       "      <td>3</td>\n",
       "      <td>54</td>\n",
       "      <td>1</td>\n",
       "      <td>12</td>\n",
       "    </tr>\n",
       "    <tr>\n",
       "      <th>1</th>\n",
       "      <td>yes</td>\n",
       "      <td>0</td>\n",
       "      <td>33.25000</td>\n",
       "      <td>2.4200</td>\n",
       "      <td>0.005217</td>\n",
       "      <td>9.854167</td>\n",
       "      <td>no</td>\n",
       "      <td>no</td>\n",
       "      <td>3</td>\n",
       "      <td>34</td>\n",
       "      <td>1</td>\n",
       "      <td>13</td>\n",
       "    </tr>\n",
       "    <tr>\n",
       "      <th>2</th>\n",
       "      <td>yes</td>\n",
       "      <td>0</td>\n",
       "      <td>33.66667</td>\n",
       "      <td>4.5000</td>\n",
       "      <td>0.004156</td>\n",
       "      <td>15.000000</td>\n",
       "      <td>yes</td>\n",
       "      <td>no</td>\n",
       "      <td>4</td>\n",
       "      <td>58</td>\n",
       "      <td>1</td>\n",
       "      <td>5</td>\n",
       "    </tr>\n",
       "    <tr>\n",
       "      <th>3</th>\n",
       "      <td>NaN</td>\n",
       "      <td>1</td>\n",
       "      <td>29.50000</td>\n",
       "      <td>3.9600</td>\n",
       "      <td>0.044438</td>\n",
       "      <td>137.869200</td>\n",
       "      <td>yes</td>\n",
       "      <td>no</td>\n",
       "      <td>0</td>\n",
       "      <td>168</td>\n",
       "      <td>1</td>\n",
       "      <td>22</td>\n",
       "    </tr>\n",
       "    <tr>\n",
       "      <th>4</th>\n",
       "      <td>yes</td>\n",
       "      <td>0</td>\n",
       "      <td>30.50000</td>\n",
       "      <td>2.5400</td>\n",
       "      <td>0.065214</td>\n",
       "      <td>137.869200</td>\n",
       "      <td>no</td>\n",
       "      <td>no</td>\n",
       "      <td>0</td>\n",
       "      <td>25</td>\n",
       "      <td>1</td>\n",
       "      <td>7</td>\n",
       "    </tr>\n",
       "    <tr>\n",
       "      <th>5</th>\n",
       "      <td>yes</td>\n",
       "      <td>0</td>\n",
       "      <td>32.16667</td>\n",
       "      <td>9.7867</td>\n",
       "      <td>0.067051</td>\n",
       "      <td>546.503300</td>\n",
       "      <td>yes</td>\n",
       "      <td>no</td>\n",
       "      <td>2</td>\n",
       "      <td>64</td>\n",
       "      <td>1</td>\n",
       "      <td>5</td>\n",
       "    </tr>\n",
       "    <tr>\n",
       "      <th>6</th>\n",
       "      <td>yes</td>\n",
       "      <td>0</td>\n",
       "      <td>23.25000</td>\n",
       "      <td>2.5000</td>\n",
       "      <td>0.044438</td>\n",
       "      <td>91.996670</td>\n",
       "      <td>no</td>\n",
       "      <td>no</td>\n",
       "      <td>0</td>\n",
       "      <td>54</td>\n",
       "      <td>1</td>\n",
       "      <td>1</td>\n",
       "    </tr>\n",
       "    <tr>\n",
       "      <th>7</th>\n",
       "      <td>yes</td>\n",
       "      <td>0</td>\n",
       "      <td>27.91667</td>\n",
       "      <td>3.9600</td>\n",
       "      <td>0.012576</td>\n",
       "      <td>40.833330</td>\n",
       "      <td>no</td>\n",
       "      <td>no</td>\n",
       "      <td>2</td>\n",
       "      <td>7</td>\n",
       "      <td>1</td>\n",
       "      <td>5</td>\n",
       "    </tr>\n",
       "    <tr>\n",
       "      <th>8</th>\n",
       "      <td>yes</td>\n",
       "      <td>0</td>\n",
       "      <td>29.16667</td>\n",
       "      <td>2.3700</td>\n",
       "      <td>0.076434</td>\n",
       "      <td>150.790000</td>\n",
       "      <td>yes</td>\n",
       "      <td>no</td>\n",
       "      <td>0</td>\n",
       "      <td>77</td>\n",
       "      <td>1</td>\n",
       "      <td>3</td>\n",
       "    </tr>\n",
       "    <tr>\n",
       "      <th>9</th>\n",
       "      <td>yes</td>\n",
       "      <td>0</td>\n",
       "      <td>37.00000</td>\n",
       "      <td>3.8000</td>\n",
       "      <td>0.245628</td>\n",
       "      <td>777.821700</td>\n",
       "      <td>yes</td>\n",
       "      <td>no</td>\n",
       "      <td>0</td>\n",
       "      <td>97</td>\n",
       "      <td>1</td>\n",
       "      <td>6</td>\n",
       "    </tr>\n",
       "  </tbody>\n",
       "</table>\n",
       "</div>"
      ],
      "text/plain": [
       "  card  reports       age  income     share  expenditure owner selfemp  \\\n",
       "0  yes        0  37.66667  4.5200  0.033270   124.983300   yes      no   \n",
       "1  yes        0  33.25000  2.4200  0.005217     9.854167    no      no   \n",
       "2  yes        0  33.66667  4.5000  0.004156    15.000000   yes      no   \n",
       "3  NaN        1  29.50000  3.9600  0.044438   137.869200   yes      no   \n",
       "4  yes        0  30.50000  2.5400  0.065214   137.869200    no      no   \n",
       "5  yes        0  32.16667  9.7867  0.067051   546.503300   yes      no   \n",
       "6  yes        0  23.25000  2.5000  0.044438    91.996670    no      no   \n",
       "7  yes        0  27.91667  3.9600  0.012576    40.833330    no      no   \n",
       "8  yes        0  29.16667  2.3700  0.076434   150.790000   yes      no   \n",
       "9  yes        0  37.00000  3.8000  0.245628   777.821700   yes      no   \n",
       "\n",
       "   dependents  months  majorcards  active  \n",
       "0           3      54           1      12  \n",
       "1           3      34           1      13  \n",
       "2           4      58           1       5  \n",
       "3           0     168           1      22  \n",
       "4           0      25           1       7  \n",
       "5           2      64           1       5  \n",
       "6           0      54           1       1  \n",
       "7           2       7           1       5  \n",
       "8           0      77           1       3  \n",
       "9           0      97           1       6  "
      ]
     },
     "execution_count": 276,
     "metadata": {},
     "output_type": "execute_result"
    }
   ],
   "source": [
    "data = pd.read_csv(\"credit_card_data.csv\")\n",
    "data.head(10)"
   ]
  },
  {
   "cell_type": "code",
   "execution_count": 277,
   "metadata": {},
   "outputs": [
    {
     "name": "stdout",
     "output_type": "stream",
     "text": [
      "<class 'pandas.core.frame.DataFrame'>\n",
      "RangeIndex: 1320 entries, 0 to 1319\n",
      "Data columns (total 12 columns):\n",
      " #   Column       Non-Null Count  Dtype  \n",
      "---  ------       --------------  -----  \n",
      " 0   card         1308 non-null   object \n",
      " 1   reports      1320 non-null   int64  \n",
      " 2   age          1320 non-null   float64\n",
      " 3   income       1320 non-null   float64\n",
      " 4   share        1320 non-null   float64\n",
      " 5   expenditure  1320 non-null   float64\n",
      " 6   owner        1320 non-null   object \n",
      " 7   selfemp      1320 non-null   object \n",
      " 8   dependents   1320 non-null   int64  \n",
      " 9   months       1320 non-null   int64  \n",
      " 10  majorcards   1320 non-null   int64  \n",
      " 11  active       1320 non-null   int64  \n",
      "dtypes: float64(4), int64(5), object(3)\n",
      "memory usage: 123.9+ KB\n"
     ]
    }
   ],
   "source": [
    "data.info()\n"
   ]
  },
  {
   "cell_type": "markdown",
   "metadata": {},
   "source": [
    "# Checking for missing values\n",
    "This specific column is target so we better drop those observations\n",
    "\n",
    "\n"
   ]
  },
  {
   "cell_type": "code",
   "execution_count": 278,
   "metadata": {},
   "outputs": [
    {
     "data": {
      "text/plain": [
       "card           12\n",
       "reports         0\n",
       "age             0\n",
       "income          0\n",
       "share           0\n",
       "expenditure     0\n",
       "owner           0\n",
       "selfemp         0\n",
       "dependents      0\n",
       "months          0\n",
       "majorcards      0\n",
       "active          0\n",
       "dtype: int64"
      ]
     },
     "execution_count": 278,
     "metadata": {},
     "output_type": "execute_result"
    }
   ],
   "source": [
    "data.isna().sum()"
   ]
  },
  {
   "cell_type": "code",
   "execution_count": 279,
   "metadata": {},
   "outputs": [
    {
     "name": "stdout",
     "output_type": "stream",
     "text": [
      "<class 'pandas.core.frame.DataFrame'>\n",
      "Int64Index: 1308 entries, 0 to 1319\n",
      "Data columns (total 12 columns):\n",
      " #   Column       Non-Null Count  Dtype  \n",
      "---  ------       --------------  -----  \n",
      " 0   card         1308 non-null   object \n",
      " 1   reports      1308 non-null   int64  \n",
      " 2   age          1308 non-null   float64\n",
      " 3   income       1308 non-null   float64\n",
      " 4   share        1308 non-null   float64\n",
      " 5   expenditure  1308 non-null   float64\n",
      " 6   owner        1308 non-null   object \n",
      " 7   selfemp      1308 non-null   object \n",
      " 8   dependents   1308 non-null   int64  \n",
      " 9   months       1308 non-null   int64  \n",
      " 10  majorcards   1308 non-null   int64  \n",
      " 11  active       1308 non-null   int64  \n",
      "dtypes: float64(4), int64(5), object(3)\n",
      "memory usage: 132.8+ KB\n"
     ]
    }
   ],
   "source": [
    "data.dropna(inplace=True)\n",
    "data.info()"
   ]
  },
  {
   "cell_type": "markdown",
   "metadata": {},
   "source": [
    "# Let's observe our numeric variables¶\n"
   ]
  },
  {
   "cell_type": "code",
   "execution_count": 280,
   "metadata": {},
   "outputs": [
    {
     "data": {
      "text/html": [
       "<div>\n",
       "<style scoped>\n",
       "    .dataframe tbody tr th:only-of-type {\n",
       "        vertical-align: middle;\n",
       "    }\n",
       "\n",
       "    .dataframe tbody tr th {\n",
       "        vertical-align: top;\n",
       "    }\n",
       "\n",
       "    .dataframe thead th {\n",
       "        text-align: right;\n",
       "    }\n",
       "</style>\n",
       "<table border=\"1\" class=\"dataframe\">\n",
       "  <thead>\n",
       "    <tr style=\"text-align: right;\">\n",
       "      <th></th>\n",
       "      <th>reports</th>\n",
       "      <th>age</th>\n",
       "      <th>income</th>\n",
       "      <th>share</th>\n",
       "      <th>expenditure</th>\n",
       "      <th>dependents</th>\n",
       "      <th>months</th>\n",
       "      <th>majorcards</th>\n",
       "      <th>active</th>\n",
       "    </tr>\n",
       "  </thead>\n",
       "  <tbody>\n",
       "    <tr>\n",
       "      <th>count</th>\n",
       "      <td>1308.000000</td>\n",
       "      <td>1308.000000</td>\n",
       "      <td>1308.000000</td>\n",
       "      <td>1308.000000</td>\n",
       "      <td>1308.000000</td>\n",
       "      <td>1308.000000</td>\n",
       "      <td>1308.000000</td>\n",
       "      <td>1308.000000</td>\n",
       "      <td>1308.000000</td>\n",
       "    </tr>\n",
       "    <tr>\n",
       "      <th>mean</th>\n",
       "      <td>0.460245</td>\n",
       "      <td>33.217253</td>\n",
       "      <td>3.363475</td>\n",
       "      <td>0.068709</td>\n",
       "      <td>185.406943</td>\n",
       "      <td>0.993884</td>\n",
       "      <td>55.389144</td>\n",
       "      <td>0.816514</td>\n",
       "      <td>6.994648</td>\n",
       "    </tr>\n",
       "    <tr>\n",
       "      <th>std</th>\n",
       "      <td>1.350262</td>\n",
       "      <td>10.160253</td>\n",
       "      <td>1.674635</td>\n",
       "      <td>0.094787</td>\n",
       "      <td>273.076284</td>\n",
       "      <td>1.249315</td>\n",
       "      <td>66.456634</td>\n",
       "      <td>0.387213</td>\n",
       "      <td>6.297214</td>\n",
       "    </tr>\n",
       "    <tr>\n",
       "      <th>min</th>\n",
       "      <td>0.000000</td>\n",
       "      <td>0.166667</td>\n",
       "      <td>0.210000</td>\n",
       "      <td>0.000109</td>\n",
       "      <td>0.000000</td>\n",
       "      <td>0.000000</td>\n",
       "      <td>0.000000</td>\n",
       "      <td>0.000000</td>\n",
       "      <td>0.000000</td>\n",
       "    </tr>\n",
       "    <tr>\n",
       "      <th>25%</th>\n",
       "      <td>0.000000</td>\n",
       "      <td>25.416670</td>\n",
       "      <td>2.250000</td>\n",
       "      <td>0.002208</td>\n",
       "      <td>4.583333</td>\n",
       "      <td>0.000000</td>\n",
       "      <td>12.000000</td>\n",
       "      <td>1.000000</td>\n",
       "      <td>2.000000</td>\n",
       "    </tr>\n",
       "    <tr>\n",
       "      <th>50%</th>\n",
       "      <td>0.000000</td>\n",
       "      <td>31.250000</td>\n",
       "      <td>2.900000</td>\n",
       "      <td>0.038811</td>\n",
       "      <td>101.280400</td>\n",
       "      <td>0.500000</td>\n",
       "      <td>30.000000</td>\n",
       "      <td>1.000000</td>\n",
       "      <td>6.000000</td>\n",
       "    </tr>\n",
       "    <tr>\n",
       "      <th>75%</th>\n",
       "      <td>0.000000</td>\n",
       "      <td>39.416670</td>\n",
       "      <td>4.000000</td>\n",
       "      <td>0.093636</td>\n",
       "      <td>248.970800</td>\n",
       "      <td>2.000000</td>\n",
       "      <td>72.000000</td>\n",
       "      <td>1.000000</td>\n",
       "      <td>11.000000</td>\n",
       "    </tr>\n",
       "    <tr>\n",
       "      <th>max</th>\n",
       "      <td>14.000000</td>\n",
       "      <td>83.500000</td>\n",
       "      <td>12.499900</td>\n",
       "      <td>0.906320</td>\n",
       "      <td>3099.505000</td>\n",
       "      <td>6.000000</td>\n",
       "      <td>540.000000</td>\n",
       "      <td>1.000000</td>\n",
       "      <td>46.000000</td>\n",
       "    </tr>\n",
       "  </tbody>\n",
       "</table>\n",
       "</div>"
      ],
      "text/plain": [
       "           reports          age       income        share  expenditure  \\\n",
       "count  1308.000000  1308.000000  1308.000000  1308.000000  1308.000000   \n",
       "mean      0.460245    33.217253     3.363475     0.068709   185.406943   \n",
       "std       1.350262    10.160253     1.674635     0.094787   273.076284   \n",
       "min       0.000000     0.166667     0.210000     0.000109     0.000000   \n",
       "25%       0.000000    25.416670     2.250000     0.002208     4.583333   \n",
       "50%       0.000000    31.250000     2.900000     0.038811   101.280400   \n",
       "75%       0.000000    39.416670     4.000000     0.093636   248.970800   \n",
       "max      14.000000    83.500000    12.499900     0.906320  3099.505000   \n",
       "\n",
       "        dependents       months   majorcards       active  \n",
       "count  1308.000000  1308.000000  1308.000000  1308.000000  \n",
       "mean      0.993884    55.389144     0.816514     6.994648  \n",
       "std       1.249315    66.456634     0.387213     6.297214  \n",
       "min       0.000000     0.000000     0.000000     0.000000  \n",
       "25%       0.000000    12.000000     1.000000     2.000000  \n",
       "50%       0.500000    30.000000     1.000000     6.000000  \n",
       "75%       2.000000    72.000000     1.000000    11.000000  \n",
       "max       6.000000   540.000000     1.000000    46.000000  "
      ]
     },
     "execution_count": 280,
     "metadata": {},
     "output_type": "execute_result"
    }
   ],
   "source": [
    "data.describe()\n"
   ]
  },
  {
   "cell_type": "markdown",
   "metadata": {},
   "source": [
    "# In order to ease our classification we can change 'card' column to 0 and 1"
   ]
  },
  {
   "cell_type": "code",
   "execution_count": 281,
   "metadata": {},
   "outputs": [],
   "source": [
    "data.card=data.card.map({'yes':1,'no':0})"
   ]
  },
  {
   "cell_type": "code",
   "execution_count": 282,
   "metadata": {},
   "outputs": [
    {
     "data": {
      "text/html": [
       "<div>\n",
       "<style scoped>\n",
       "    .dataframe tbody tr th:only-of-type {\n",
       "        vertical-align: middle;\n",
       "    }\n",
       "\n",
       "    .dataframe tbody tr th {\n",
       "        vertical-align: top;\n",
       "    }\n",
       "\n",
       "    .dataframe thead th {\n",
       "        text-align: right;\n",
       "    }\n",
       "</style>\n",
       "<table border=\"1\" class=\"dataframe\">\n",
       "  <thead>\n",
       "    <tr style=\"text-align: right;\">\n",
       "      <th></th>\n",
       "      <th>card</th>\n",
       "      <th>reports</th>\n",
       "      <th>age</th>\n",
       "      <th>income</th>\n",
       "      <th>share</th>\n",
       "      <th>expenditure</th>\n",
       "      <th>owner</th>\n",
       "      <th>selfemp</th>\n",
       "      <th>dependents</th>\n",
       "      <th>months</th>\n",
       "      <th>majorcards</th>\n",
       "      <th>active</th>\n",
       "    </tr>\n",
       "  </thead>\n",
       "  <tbody>\n",
       "    <tr>\n",
       "      <th>0</th>\n",
       "      <td>1</td>\n",
       "      <td>0</td>\n",
       "      <td>37.66667</td>\n",
       "      <td>4.5200</td>\n",
       "      <td>0.033270</td>\n",
       "      <td>124.983300</td>\n",
       "      <td>yes</td>\n",
       "      <td>no</td>\n",
       "      <td>3</td>\n",
       "      <td>54</td>\n",
       "      <td>1</td>\n",
       "      <td>12</td>\n",
       "    </tr>\n",
       "    <tr>\n",
       "      <th>1</th>\n",
       "      <td>1</td>\n",
       "      <td>0</td>\n",
       "      <td>33.25000</td>\n",
       "      <td>2.4200</td>\n",
       "      <td>0.005217</td>\n",
       "      <td>9.854167</td>\n",
       "      <td>no</td>\n",
       "      <td>no</td>\n",
       "      <td>3</td>\n",
       "      <td>34</td>\n",
       "      <td>1</td>\n",
       "      <td>13</td>\n",
       "    </tr>\n",
       "    <tr>\n",
       "      <th>2</th>\n",
       "      <td>1</td>\n",
       "      <td>0</td>\n",
       "      <td>33.66667</td>\n",
       "      <td>4.5000</td>\n",
       "      <td>0.004156</td>\n",
       "      <td>15.000000</td>\n",
       "      <td>yes</td>\n",
       "      <td>no</td>\n",
       "      <td>4</td>\n",
       "      <td>58</td>\n",
       "      <td>1</td>\n",
       "      <td>5</td>\n",
       "    </tr>\n",
       "    <tr>\n",
       "      <th>4</th>\n",
       "      <td>1</td>\n",
       "      <td>0</td>\n",
       "      <td>30.50000</td>\n",
       "      <td>2.5400</td>\n",
       "      <td>0.065214</td>\n",
       "      <td>137.869200</td>\n",
       "      <td>no</td>\n",
       "      <td>no</td>\n",
       "      <td>0</td>\n",
       "      <td>25</td>\n",
       "      <td>1</td>\n",
       "      <td>7</td>\n",
       "    </tr>\n",
       "    <tr>\n",
       "      <th>5</th>\n",
       "      <td>1</td>\n",
       "      <td>0</td>\n",
       "      <td>32.16667</td>\n",
       "      <td>9.7867</td>\n",
       "      <td>0.067051</td>\n",
       "      <td>546.503300</td>\n",
       "      <td>yes</td>\n",
       "      <td>no</td>\n",
       "      <td>2</td>\n",
       "      <td>64</td>\n",
       "      <td>1</td>\n",
       "      <td>5</td>\n",
       "    </tr>\n",
       "  </tbody>\n",
       "</table>\n",
       "</div>"
      ],
      "text/plain": [
       "   card  reports       age  income     share  expenditure owner selfemp  \\\n",
       "0     1        0  37.66667  4.5200  0.033270   124.983300   yes      no   \n",
       "1     1        0  33.25000  2.4200  0.005217     9.854167    no      no   \n",
       "2     1        0  33.66667  4.5000  0.004156    15.000000   yes      no   \n",
       "4     1        0  30.50000  2.5400  0.065214   137.869200    no      no   \n",
       "5     1        0  32.16667  9.7867  0.067051   546.503300   yes      no   \n",
       "\n",
       "   dependents  months  majorcards  active  \n",
       "0           3      54           1      12  \n",
       "1           3      34           1      13  \n",
       "2           4      58           1       5  \n",
       "4           0      25           1       7  \n",
       "5           2      64           1       5  "
      ]
     },
     "execution_count": 282,
     "metadata": {},
     "output_type": "execute_result"
    }
   ],
   "source": [
    "data.head()"
   ]
  },
  {
   "cell_type": "markdown",
   "metadata": {},
   "source": [
    "# Lets plot a barplot, counting observations from our two classes to examine if our dataset is balanced or not\n",
    "Heavily imbalanced datasets may prove insufficient to train a model. There are many cases that minority class has such small number of observations that cannot ‘’teach’’ an algorithm to predict it or let the model be biased towards the majority class."
   ]
  },
  {
   "cell_type": "code",
   "execution_count": 283,
   "metadata": {},
   "outputs": [
    {
     "data": {
      "image/png": "[encoded data removed]",
      "text/plain": [
       "<Figure size 432x288 with 1 Axes>"
      ]
     },
     "metadata": {
      "needs_background": "light"
     },
     "output_type": "display_data"
    }
   ],
   "source": [
    "sns.countplot(x=data['card'])\n",
    "plt.show()"
   ]
  },
  {
   "cell_type": "markdown",
   "metadata": {},
   "source": [
    "# Checking for outliers\n",
    "\n",
    "- Outliers can have a significant impact on the performance and results of logistic regression models.\n",
    "- Ploting boxplots for numeric columns will let us know if there are a lot outliers in our dataset.\n",
    "\n",
    "\n"
   ]
  },
  {
   "cell_type": "code",
   "execution_count": 284,
   "metadata": {},
   "outputs": [
    {
     "data": {
      "image/png": "[encoded data removed]",
      "text/plain": [
       "<Figure size 1080x720 with 1 Axes>"
      ]
     },
     "metadata": {
      "needs_background": "light"
     },
     "output_type": "display_data"
    }
   ],
   "source": [
    "numeric_columns=['reports', 'age', 'income', 'share' , 'expenditure', 'months', 'majorcards','active','dependents']\n",
    "\n",
    "boxplot = data.boxplot(column=numeric_columns,figsize=(15,10))\n"
   ]
  },
  {
   "cell_type": "markdown",
   "metadata": {},
   "source": [
    "#### Seems that 'expenditure' and 'months' variables have a lot of outliers. There are also a few outliers in other columns too. When we conclude which columns we will use we will remove those observations."
   ]
  },
  {
   "cell_type": "markdown",
   "metadata": {},
   "source": [
    "# To examine correlated variables we will create Correlation Heatmap\n"
   ]
  },
  {
   "cell_type": "code",
   "execution_count": 285,
   "metadata": {},
   "outputs": [
    {
     "data": {
      "image/png": "[encoded data removed]",
      "text/plain": [
       "<Figure size 1080x1080 with 2 Axes>"
      ]
     },
     "metadata": {
      "needs_background": "light"
     },
     "output_type": "display_data"
    }
   ],
   "source": [
    "plt.figure(figsize=(15, 15))\n",
    "plt.title(\"Correlation Heatmap\")\n",
    "heatmap = sns.heatmap(data.corr(), annot=True, cmap=\"Blues\")\n"
   ]
  },
  {
   "cell_type": "markdown",
   "metadata": {},
   "source": [
    "### Variables 'expenditure' and 'share' look heavily corralated. This was expected from our data definition! Share is defined as: 'Ratio of monthly credit card expenditure to yearly income"
   ]
  },
  {
   "cell_type": "markdown",
   "metadata": {},
   "source": [
    "### Additionaly 'expenditure' looks suspicious in general.\n",
    "Is it the expediture from those customers generated from other cards or is it the expediture generated from the card whose application we examine?\n",
    "\n",
    "### To anwser we will examine if there is significant differance between the expenditures of customers whose application was approved and and those rejected."
   ]
  },
  {
   "cell_type": "code",
   "execution_count": 286,
   "metadata": {},
   "outputs": [
    {
     "name": "stdout",
     "output_type": "stream",
     "text": [
      "Fraction of customers who were approved and had no expenditures: 0.02\n",
      "Fraction of customers who were rejected and had no expenditures: 1.00\n"
     ]
    }
   ],
   "source": [
    "expenditures_cardholders = data.expenditure[data.card == 1]\n",
    "expenditures_noncardholders = data.expenditure[data.card == 0]\n",
    "\n",
    "print('Fraction of customers who were approved and had no expenditures: %.2f' % ((expenditures_cardholders == 0).mean()))\n",
    "print('Fraction of customers who were rejected and had no expenditures: %.2f' % ((expenditures_noncardholders == 0).mean()))"
   ]
  },
  {
   "cell_type": "markdown",
   "metadata": {},
   "source": [
    "### As observed 0 expenditures had almost only 'rejected' cumstomers. It seems that a few 'approved' had also 0 expenditures but this can be easily justified by the nature of data. Our hypothesis is further established from the fact that ALL rejected customers appear to have 0 expenditures.\n",
    "\n",
    "This is indicative of a very common phenomenon named 'data leakage'. Very often datasets incude data that was not existent at the moment of the decision but were generated later. Those variables HAVE TO BE EXCLUDED from the model. A model would learn to predict 'rejected' only by expenditures=0 and it could be very accurate for the dataset but very naive for the real world.\n",
    "\n",
    "### For this reason 'expenditure' column will be droped from our model. Additionaly 'share' variable will be also excluded because is heavily correlated to 'expenditures' as expected by our data definition."
   ]
  },
  {
   "cell_type": "code",
   "execution_count": 287,
   "metadata": {},
   "outputs": [],
   "source": [
    "data.drop(['expenditure', 'share'], axis='columns', inplace=True)\n"
   ]
  },
  {
   "cell_type": "markdown",
   "metadata": {},
   "source": [
    "# To further proceed we will drop outliers. (observations further than 3 standard deviations). Then we examine again our target variable distribution to see how it changed"
   ]
  },
  {
   "cell_type": "code",
   "execution_count": 288,
   "metadata": {},
   "outputs": [
    {
     "name": "stdout",
     "output_type": "stream",
     "text": [
      "<class 'pandas.core.frame.DataFrame'>\n",
      "Int64Index: 1184 entries, 0 to 1319\n",
      "Data columns (total 10 columns):\n",
      " #   Column      Non-Null Count  Dtype  \n",
      "---  ------      --------------  -----  \n",
      " 0   card        1184 non-null   int64  \n",
      " 1   reports     1184 non-null   int64  \n",
      " 2   age         1184 non-null   float64\n",
      " 3   income      1184 non-null   float64\n",
      " 4   owner       1184 non-null   object \n",
      " 5   selfemp     1184 non-null   object \n",
      " 6   dependents  1184 non-null   int64  \n",
      " 7   months      1184 non-null   int64  \n",
      " 8   majorcards  1184 non-null   int64  \n",
      " 9   active      1184 non-null   int64  \n",
      "dtypes: float64(2), int64(6), object(2)\n",
      "memory usage: 101.8+ KB\n"
     ]
    },
    {
     "data": {
      "text/plain": [
       "<matplotlib.axes._subplots.AxesSubplot at 0x246e46146c8>"
      ]
     },
     "execution_count": 288,
     "metadata": {},
     "output_type": "execute_result"
    },
    {
     "data": {
      "image/png": "[encoded data removed]",
      "text/plain": [
       "<Figure size 432x288 with 1 Axes>"
      ]
     },
     "metadata": {
      "needs_background": "light"
     },
     "output_type": "display_data"
    }
   ],
   "source": [
    "numeric_columns=['reports', 'age', 'income', 'months', 'majorcards','active','dependents']\n",
    "\n",
    "for column in numeric_columns:\n",
    "    data=data[np.abs(data[column]-data[column].mean())<=(3*data[column].std())]\n",
    "\n",
    "data.info()\n",
    "sns.countplot(x=data['card'])"
   ]
  },
  {
   "cell_type": "markdown",
   "metadata": {},
   "source": [
    "# Variables 'owner' and 'selfemp' are categorical. We can transform them with dummies or as booleans so we can include them in our model.\n",
    "\n",
    "This time we proceed with dummies just for academic-demonstration puproses. For variables containing only two categories we could also proceed with turning them to boolean like we did with the 'card' column. For categorical variables with more than two categories using dummies is mandatory."
   ]
  },
  {
   "cell_type": "code",
   "execution_count": 289,
   "metadata": {},
   "outputs": [],
   "source": [
    "data=pd.get_dummies(data,columns={'owner','selfemp'})\n"
   ]
  },
  {
   "cell_type": "code",
   "execution_count": 290,
   "metadata": {},
   "outputs": [
    {
     "data": {
      "text/html": [
       "<div>\n",
       "<style scoped>\n",
       "    .dataframe tbody tr th:only-of-type {\n",
       "        vertical-align: middle;\n",
       "    }\n",
       "\n",
       "    .dataframe tbody tr th {\n",
       "        vertical-align: top;\n",
       "    }\n",
       "\n",
       "    .dataframe thead th {\n",
       "        text-align: right;\n",
       "    }\n",
       "</style>\n",
       "<table border=\"1\" class=\"dataframe\">\n",
       "  <thead>\n",
       "    <tr style=\"text-align: right;\">\n",
       "      <th></th>\n",
       "      <th>card</th>\n",
       "      <th>reports</th>\n",
       "      <th>age</th>\n",
       "      <th>income</th>\n",
       "      <th>dependents</th>\n",
       "      <th>months</th>\n",
       "      <th>majorcards</th>\n",
       "      <th>active</th>\n",
       "      <th>owner_no</th>\n",
       "      <th>owner_yes</th>\n",
       "      <th>selfemp_no</th>\n",
       "      <th>selfemp_yes</th>\n",
       "    </tr>\n",
       "  </thead>\n",
       "  <tbody>\n",
       "    <tr>\n",
       "      <th>0</th>\n",
       "      <td>1</td>\n",
       "      <td>0</td>\n",
       "      <td>37.66667</td>\n",
       "      <td>4.52</td>\n",
       "      <td>3</td>\n",
       "      <td>54</td>\n",
       "      <td>1</td>\n",
       "      <td>12</td>\n",
       "      <td>0</td>\n",
       "      <td>1</td>\n",
       "      <td>1</td>\n",
       "      <td>0</td>\n",
       "    </tr>\n",
       "    <tr>\n",
       "      <th>1</th>\n",
       "      <td>1</td>\n",
       "      <td>0</td>\n",
       "      <td>33.25000</td>\n",
       "      <td>2.42</td>\n",
       "      <td>3</td>\n",
       "      <td>34</td>\n",
       "      <td>1</td>\n",
       "      <td>13</td>\n",
       "      <td>1</td>\n",
       "      <td>0</td>\n",
       "      <td>1</td>\n",
       "      <td>0</td>\n",
       "    </tr>\n",
       "    <tr>\n",
       "      <th>2</th>\n",
       "      <td>1</td>\n",
       "      <td>0</td>\n",
       "      <td>33.66667</td>\n",
       "      <td>4.50</td>\n",
       "      <td>4</td>\n",
       "      <td>58</td>\n",
       "      <td>1</td>\n",
       "      <td>5</td>\n",
       "      <td>0</td>\n",
       "      <td>1</td>\n",
       "      <td>1</td>\n",
       "      <td>0</td>\n",
       "    </tr>\n",
       "    <tr>\n",
       "      <th>4</th>\n",
       "      <td>1</td>\n",
       "      <td>0</td>\n",
       "      <td>30.50000</td>\n",
       "      <td>2.54</td>\n",
       "      <td>0</td>\n",
       "      <td>25</td>\n",
       "      <td>1</td>\n",
       "      <td>7</td>\n",
       "      <td>1</td>\n",
       "      <td>0</td>\n",
       "      <td>1</td>\n",
       "      <td>0</td>\n",
       "    </tr>\n",
       "    <tr>\n",
       "      <th>6</th>\n",
       "      <td>1</td>\n",
       "      <td>0</td>\n",
       "      <td>23.25000</td>\n",
       "      <td>2.50</td>\n",
       "      <td>0</td>\n",
       "      <td>54</td>\n",
       "      <td>1</td>\n",
       "      <td>1</td>\n",
       "      <td>1</td>\n",
       "      <td>0</td>\n",
       "      <td>1</td>\n",
       "      <td>0</td>\n",
       "    </tr>\n",
       "  </tbody>\n",
       "</table>\n",
       "</div>"
      ],
      "text/plain": [
       "   card  reports       age  income  dependents  months  majorcards  active  \\\n",
       "0     1        0  37.66667    4.52           3      54           1      12   \n",
       "1     1        0  33.25000    2.42           3      34           1      13   \n",
       "2     1        0  33.66667    4.50           4      58           1       5   \n",
       "4     1        0  30.50000    2.54           0      25           1       7   \n",
       "6     1        0  23.25000    2.50           0      54           1       1   \n",
       "\n",
       "   owner_no  owner_yes  selfemp_no  selfemp_yes  \n",
       "0         0          1           1            0  \n",
       "1         1          0           1            0  \n",
       "2         0          1           1            0  \n",
       "4         1          0           1            0  \n",
       "6         1          0           1            0  "
      ]
     },
     "execution_count": 290,
     "metadata": {},
     "output_type": "execute_result"
    }
   ],
   "source": [
    "data.head()\n"
   ]
  },
  {
   "cell_type": "markdown",
   "metadata": {},
   "source": [
    "# Logistic regression"
   ]
  },
  {
   "cell_type": "code",
   "execution_count": 291,
   "metadata": {},
   "outputs": [
    {
     "name": "stdout",
     "output_type": "stream",
     "text": [
      "              precision    recall  f1-score   support\n",
      "\n",
      "           0       0.58      0.36      0.44        42\n",
      "           1       0.87      0.94      0.91       195\n",
      "\n",
      "    accuracy                           0.84       237\n",
      "   macro avg       0.72      0.65      0.67       237\n",
      "weighted avg       0.82      0.84      0.82       237\n",
      "\n"
     ]
    }
   ],
   "source": [
    "X = data.drop('card', axis=1)\n",
    "y = data['card']\n",
    "X_or_train, X_or_test, y_or_train, y_or_test = train_test_split(\n",
    "    X, y, test_size=0.2, random_state=42, shuffle=True)\n",
    "\n",
    "lr = LogisticRegression(max_iter=300)\n",
    "lr_or = lr.fit(X_or_train, y_or_train)\n",
    "\n",
    "y_pred = lr.predict(X_or_test)\n",
    "print(classification_report(y_or_test, y_pred))"
   ]
  },
  {
   "cell_type": "code",
   "execution_count": 292,
   "metadata": {},
   "outputs": [
    {
     "data": {
      "image/png": "[encoded data removed]",
      "text/plain": [
       "<Figure size 432x288 with 1 Axes>"
      ]
     },
     "metadata": {
      "needs_background": "light"
     },
     "output_type": "display_data"
    }
   ],
   "source": [
    "y_pred_proba_log = lr.predict_proba(X_or_test)[::,1]\n",
    "\n",
    "fpr_log,tpr_log,_ = roc_curve(y_or_test,y_pred_proba_log)\n",
    "auc_log= roc_auc_score(y_or_test,y_pred_proba_log)\n",
    "\n",
    "plt.plot(fpr_log, tpr_log, label= \"data 1 - Original, auc=\" +str(auc_log))\n",
    "plt.plot([0,1], [0,1], color = \"black\", linestyle = '--')\n",
    "plt.legend(loc=4)\n",
    "plt.show()"
   ]
  },
  {
   "cell_type": "markdown",
   "metadata": {},
   "source": [
    "# As mentioned, dataset is imbalanced. We will examine if balancing our dataset is a good idea."
   ]
  },
  {
   "cell_type": "code",
   "execution_count": 293,
   "metadata": {},
   "outputs": [
    {
     "data": {
      "text/plain": [
       "1    943\n",
       "0    241\n",
       "Name: card, dtype: int64"
      ]
     },
     "execution_count": 293,
     "metadata": {},
     "output_type": "execute_result"
    }
   ],
   "source": [
    "data.card.value_counts()\n"
   ]
  },
  {
   "cell_type": "markdown",
   "metadata": {},
   "source": [
    "# Downsampling"
   ]
  },
  {
   "cell_type": "code",
   "execution_count": 294,
   "metadata": {},
   "outputs": [
    {
     "data": {
      "text/plain": [
       "<matplotlib.axes._subplots.AxesSubplot at 0x246e2ba1208>"
      ]
     },
     "execution_count": 294,
     "metadata": {},
     "output_type": "execute_result"
    },
    {
     "data": {
      "image/png": "[encoded data removed]",
      "text/plain": [
       "<Figure size 432x288 with 1 Axes>"
      ]
     },
     "metadata": {
      "needs_background": "light"
     },
     "output_type": "display_data"
    }
   ],
   "source": [
    "data_2 = (data.groupby('card', as_index=False)\n",
    "        .apply(lambda x: x.sample(n=241))\n",
    "        .reset_index(drop=True))\n",
    "\n",
    "sns.countplot(x=data_2['card'])"
   ]
  },
  {
   "cell_type": "markdown",
   "metadata": {},
   "source": [
    "# We are now ready to create our balanced X and y datasets and retrain our model"
   ]
  },
  {
   "cell_type": "code",
   "execution_count": 295,
   "metadata": {},
   "outputs": [
    {
     "name": "stdout",
     "output_type": "stream",
     "text": [
      "              precision    recall  f1-score   support\n",
      "\n",
      "           0       0.82      0.82      0.82        50\n",
      "           1       0.81      0.81      0.81        47\n",
      "\n",
      "    accuracy                           0.81        97\n",
      "   macro avg       0.81      0.81      0.81        97\n",
      "weighted avg       0.81      0.81      0.81        97\n",
      "\n"
     ]
    }
   ],
   "source": [
    "X_und = data_2.drop('card', axis=1)\n",
    "\n",
    "y_und = data_2['card']\n",
    "\n",
    "X_und_train, X_und_test, y_und_train, y_und_test = train_test_split(\n",
    "    X_und, y_und, test_size=0.2, random_state=42, shuffle=True)\n",
    "\n",
    "lr = LogisticRegression(max_iter=10000)\n",
    "lr = lr.fit(X_bal_train, y_bal_train)\n",
    "\n",
    "y_pred = lr.predict(X_und_test)\n",
    "print(classification_report(y_und_test, y_pred))\n"
   ]
  },
  {
   "cell_type": "code",
   "execution_count": 296,
   "metadata": {},
   "outputs": [
    {
     "data": {
      "image/png": "[encoded data removed]",
      "text/plain": [
       "<Figure size 432x288 with 1 Axes>"
      ]
     },
     "metadata": {
      "needs_background": "light"
     },
     "output_type": "display_data"
    }
   ],
   "source": [
    "y_pred_proba = lr.predict_proba(X_und_test)[::,1]\n",
    "\n",
    "fpr_und,tpr_und,_ = roc_curve(y_und_test,y_pred_proba)\n",
    "auc_und= roc_auc_score(y_und_test,y_pred_proba)\n",
    "\n",
    "plt.plot(fpr_und, tpr_und, label= \"data 1 - Downsampled, auc=\" +str(auc_und))\n",
    "plt.plot([0,1], [0,1], color = \"black\", linestyle = '--')\n",
    "plt.legend(loc=4)\n",
    "plt.show()"
   ]
  },
  {
   "cell_type": "markdown",
   "metadata": {},
   "source": [
    "# An other way to handle unbalanced data is to let the model know that our data are stratified. Passing this argument when spliting data will let the model adjust weights towards the minority class."
   ]
  },
  {
   "cell_type": "code",
   "execution_count": 297,
   "metadata": {},
   "outputs": [
    {
     "name": "stdout",
     "output_type": "stream",
     "text": [
      "              precision    recall  f1-score   support\n",
      "\n",
      "           0       0.83      0.50      0.62        48\n",
      "           1       0.88      0.97      0.93       189\n",
      "\n",
      "    accuracy                           0.88       237\n",
      "   macro avg       0.86      0.74      0.78       237\n",
      "weighted avg       0.87      0.88      0.87       237\n",
      "\n"
     ]
    }
   ],
   "source": [
    "X_str = data.drop('card', axis=1)\n",
    "y_str = data['card']\n",
    "\n",
    "X_train_str, X_test_str, y_train_str, y_test_str = train_test_split(\n",
    "    X_str,\n",
    "    y_str,\n",
    "    test_size=0.2,\n",
    "    random_state=42,\n",
    "    shuffle=True,\n",
    "    stratify=y_original)\n",
    "\n",
    "lr = LogisticRegression(max_iter=300)\n",
    "lr = lr.fit(X_train_str, y_train_str)\n",
    "\n",
    "y_pred = lr.predict(X_test_str)\n",
    "print(classification_report(y_test_str, y_pred))"
   ]
  },
  {
   "cell_type": "code",
   "execution_count": 298,
   "metadata": {},
   "outputs": [
    {
     "data": {
      "image/png": "[encoded data removed]",
      "text/plain": [
       "<Figure size 432x288 with 1 Axes>"
      ]
     },
     "metadata": {
      "needs_background": "light"
     },
     "output_type": "display_data"
    }
   ],
   "source": [
    "y_pred_proba_str = lr.predict_proba(X_test_str)[::,1]\n",
    "\n",
    "fpr_str,tpr_str,_ = roc_curve(y_test_str,y_pred_proba_str)\n",
    "auc_str= roc_auc_score(y_test_str,y_pred_proba_str)\n",
    "\n",
    "plt.plot(fpr_str, tpr_str, label= \"data 1 - Stratify, auc=\" +str(auc_str))\n",
    "plt.plot([0,1], [0,1], color = \"black\", linestyle = '--')\n",
    "plt.legend(loc=4)\n",
    "plt.show()"
   ]
  },
  {
   "cell_type": "markdown",
   "metadata": {},
   "source": [
    "# class_weight = 'balanced'"
   ]
  },
  {
   "cell_type": "code",
   "execution_count": 299,
   "metadata": {},
   "outputs": [
    {
     "name": "stdout",
     "output_type": "stream",
     "text": [
      "              precision    recall  f1-score   support\n",
      "\n",
      "           0       0.49      0.65      0.56        62\n",
      "           1       0.90      0.82      0.86       234\n",
      "\n",
      "    accuracy                           0.79       296\n",
      "   macro avg       0.70      0.73      0.71       296\n",
      "weighted avg       0.81      0.79      0.80       296\n",
      "\n"
     ]
    }
   ],
   "source": [
    "X_bal = data.drop('card', axis=1)\n",
    "y_bal = data['card']\n",
    "\n",
    "X_train_bal, X_test_bal, y_train_bal, y_test_bal = train_test_split(\n",
    "    X_bal, y_bal, test_size =0.25, random_state=0)\n",
    "logreg_bal = LogisticRegression(max_iter=10e5, class_weight = 'balanced')\n",
    "logreg_bal.fit(X_train_bal, y_train_bal)\n",
    "y_pred_bal = logreg_bal.predict(X_test_bal)\n",
    "print(classification_report(y_test_bal, y_pred_bal))"
   ]
  },
  {
   "cell_type": "code",
   "execution_count": 300,
   "metadata": {},
   "outputs": [
    {
     "data": {
      "image/png": "[encoded data removed]",
      "text/plain": [
       "<Figure size 432x288 with 1 Axes>"
      ]
     },
     "metadata": {
      "needs_background": "light"
     },
     "output_type": "display_data"
    }
   ],
   "source": [
    "y_pred_proba_bal = lr.predict_proba(X_test_bal)[::,1]\n",
    "\n",
    "fpr_bal,tpr_bal,_ = roc_curve(y_test_bal,y_pred_proba_bal)\n",
    "auc_bal= roc_auc_score(y_test_bal,y_pred_proba_bal)\n",
    "\n",
    "plt.plot(fpr_bal, tpr_bal, label= \"data 1 - Balanced, auc=\" +str(auc_bal))\n",
    "plt.plot([0,1], [0,1], color = \"black\", linestyle = '--')\n",
    "plt.legend(loc=4)\n",
    "plt.show()"
   ]
  },
  {
   "cell_type": "code",
   "execution_count": 301,
   "metadata": {},
   "outputs": [
    {
     "data": {
      "image/png": "[encoded data removed]",
      "text/plain": [
       "<Figure size 432x288 with 1 Axes>"
      ]
     },
     "metadata": {
      "needs_background": "light"
     },
     "output_type": "display_data"
    }
   ],
   "source": [
    "plt.plot(fpr_log, tpr_log, label= \"Data 0 - Original, auc=\" +str(auc_log))\n",
    "plt.plot(fpr_und, tpr_und, label= \"Data 1 - Downsampled, auc=\" +str(auc_und))\n",
    "plt.plot(fpr_str, tpr_str, label= \"Data 2 - Stratified, auc=\" +str(auc_str))\n",
    "plt.plot(fpr_bal, tpr_bal, label= \"Data 3 - Balanced, auc=\" +str(auc_bal))\n",
    "\n",
    "plt.plot([0,1], [0,1], color = \"black\", linestyle = '--')\n",
    "plt.legend(loc=4)\n",
    "plt.show()"
   ]
  },
  {
   "cell_type": "markdown",
   "metadata": {},
   "source": [
    "# Undersampling with RandomUnderSampler"
   ]
  },
  {
   "cell_type": "code",
   "execution_count": 302,
   "metadata": {},
   "outputs": [
    {
     "name": "stdout",
     "output_type": "stream",
     "text": [
      "              precision    recall  f1-score   support\n",
      "\n",
      "           0       0.77      0.74      0.75       199\n",
      "           1       0.75      0.77      0.76       199\n",
      "\n",
      "    accuracy                           0.76       398\n",
      "   macro avg       0.76      0.76      0.76       398\n",
      "weighted avg       0.76      0.76      0.76       398\n",
      "\n"
     ]
    }
   ],
   "source": [
    "X = data.drop('card',axis=1)\n",
    "y = data['card']\n",
    "\n",
    "X_train, X_test, y_train, y_test = train_test_split(X, y, test_size= 0.20, random_state = 42)\n",
    "\n",
    "sc = StandardScaler()\n",
    "X_train = sc.fit_transform(X_train)\n",
    "X_test = sc.transform(X_test)\n",
    "\n",
    "rus = RandomUnderSampler(random_state=19)\n",
    "X_resampled, y_resampled = rus.fit_resample(X_train, y_train)\n",
    "\n",
    "logreg = LogisticRegression(max_iter = 10000)\n",
    "logreg.fit(X_resampled, y_resampled)\n",
    "y_pred = logreg.predict(X_resampled)\n",
    "\n",
    "print(classification_report(y_resampled, y_pred))"
   ]
  },
  {
   "cell_type": "markdown",
   "metadata": {},
   "source": [
    "# Oversampling with SMOTE"
   ]
  },
  {
   "cell_type": "code",
   "execution_count": 303,
   "metadata": {},
   "outputs": [
    {
     "name": "stdout",
     "output_type": "stream",
     "text": [
      "              precision    recall  f1-score   support\n",
      "\n",
      "           0       0.41      0.79      0.54        42\n",
      "           1       0.94      0.75      0.84       195\n",
      "\n",
      "    accuracy                           0.76       237\n",
      "   macro avg       0.67      0.77      0.69       237\n",
      "weighted avg       0.85      0.76      0.78       237\n",
      "\n"
     ]
    }
   ],
   "source": [
    "X = data.drop('card',axis=1)\n",
    "y = data['card']\n",
    "\n",
    "X_train, X_test, y_train, y_test = train_test_split(X, y, test_size= 0.20, random_state = 42)\n",
    "\n",
    "sc = StandardScaler()\n",
    "X_train = sc.fit_transform(X_train)\n",
    "X_test = sc.transform(X_test)\n",
    "\n",
    "smote = SMOTE(sampling_strategy='auto', random_state=42,k_neighbors=5)\n",
    "X_resampled1, y_resampled1 = smote.fit_resample(X_train, y_train)\n",
    "\n",
    "logreg = LogisticRegression(max_iter = 10000)\n",
    "logreg.fit(X_resampled1, y_resampled1)\n",
    "y_pred = logreg.predict(X_test)\n",
    "\n",
    "print(classification_report(y_test, y_pred))"
   ]
  },
  {
   "cell_type": "markdown",
   "metadata": {},
   "source": [
    "# SMOTETomek (Combination of UnderSampling and OverSampling)\n"
   ]
  },
  {
   "cell_type": "code",
   "execution_count": 304,
   "metadata": {},
   "outputs": [
    {
     "name": "stdout",
     "output_type": "stream",
     "text": [
      "              precision    recall  f1-score   support\n",
      "\n",
      "           0       0.93      0.39      0.55       180\n",
      "           1       0.12      0.75      0.21        20\n",
      "\n",
      "    accuracy                           0.43       200\n",
      "   macro avg       0.53      0.57      0.38       200\n",
      "weighted avg       0.85      0.43      0.52       200\n",
      "\n"
     ]
    }
   ],
   "source": [
    "X = data.drop('card', axis=1)\n",
    "y = data['card']\n",
    "\n",
    "X, y = make_classification(\n",
    "    n_samples=1000, n_features=X.shape[1], n_informative=2,\n",
    "    n_redundant=0, n_clusters_per_class=1, weights=[0.9], random_state=42)\n",
    "\n",
    "X_train_c, X_test_c, y_train_c, y_test_c = train_test_split(X, y, test_size=0.2, random_state=42)\n",
    "sc = StandardScaler()\n",
    "X_train_c = sc.fit_transform(X_train_c)\n",
    "X_test_c = sc.transform(X_test_c)\n",
    "smt = SMOTETomek(random_state=42)\n",
    "X_res, y_res = smt.fit_resample(X_train, y_train)\n",
    "logreg = LogisticRegression(max_iter=10000)\n",
    "logreg.fit(X_res, y_res)\n",
    "\n",
    "y_pred = logreg.predict(X_test_c)\n",
    "\n",
    "classification_results = classification_report(y_test_c, y_pred)\n",
    "confusion_results = confusion_matrix(y_test_c, y_pred)\n",
    "\n",
    "print(classification_results)"
   ]
  },
  {
   "cell_type": "code",
   "execution_count": 305,
   "metadata": {},
   "outputs": [
    {
     "data": {
      "image/png": "[encoded data removed]",
      "text/plain": [
       "<Figure size 432x288 with 1 Axes>"
      ]
     },
     "metadata": {
      "needs_background": "light"
     },
     "output_type": "display_data"
    }
   ],
   "source": [
    "y_pred_proba_comb = logreg.predict_proba(X_test_c)[::,1]\n",
    "\n",
    "fpr_comb,tpr_comb,_ = roc_curve(y_test_c,y_pred_proba_comb)\n",
    "auc_comb= roc_auc_score(y_test_c,y_pred_proba_comb)\n",
    "\n",
    "plt.plot(fpr_comb, tpr_comb, label= \"SMOTETomek =\" +str(auc_comb))\n",
    "plt.plot([0,1], [0,1], color = \"black\", linestyle = '--')\n",
    "plt.legend(loc=4)\n",
    "plt.show()"
   ]
  },
  {
   "cell_type": "markdown",
   "metadata": {},
   "source": [
    "# Finding the top-3 most significant variables\n",
    "\n"
   ]
  },
  {
   "cell_type": "code",
   "execution_count": 306,
   "metadata": {},
   "outputs": [
    {
     "name": "stdout",
     "output_type": "stream",
     "text": [
      "Optimization terminated successfully.\n",
      "         Current function value: 0.368476\n",
      "         Iterations 7\n",
      "                              Results: Logit\n",
      "===========================================================================\n",
      "Model:                  Logit               Pseudo R-squared:    0.271     \n",
      "Dependent Variable:     card                AIC:                 892.5511  \n",
      "Date:                   2023-06-08 01:35    BIC:                 943.3177  \n",
      "No. Observations:       1184                Log-Likelihood:      -436.28   \n",
      "Df Model:               9                   LL-Null:             -598.25   \n",
      "Df Residuals:           1174                LLR p-value:         2.1437e-64\n",
      "Converged:              1.0000              Scale:               1.0000    \n",
      "No. Iterations:         7.0000                                             \n",
      "---------------------------------------------------------------------------\n",
      "             Coef.    Std.Err.      z     P>|z|      [0.025       0.975]   \n",
      "---------------------------------------------------------------------------\n",
      "reports     -1.8688       0.1567 -11.9295 0.0000       -2.1758      -1.5617\n",
      "age         -0.0086       0.0118  -0.7322 0.4640       -0.0317       0.0145\n",
      "income       0.3255       0.0814   3.9993 0.0001        0.1660       0.4851\n",
      "dependents  -0.3062       0.0827  -3.7036 0.0002       -0.4682      -0.1442\n",
      "months       0.0034       0.0021   1.6636 0.0962       -0.0006       0.0074\n",
      "majorcards   0.4669       0.2047   2.2815 0.0225        0.0658       0.8680\n",
      "active       0.1481       0.0217   6.8180 0.0000        0.1055       0.1907\n",
      "owner_no    -0.1908 4504052.0432  -0.0000 1.0000 -8827779.9800 8827779.5984\n",
      "owner_yes    0.1396 4504052.0432   0.0000 1.0000 -8827779.6496 8827779.9288\n",
      "selfemp_no   0.4230 4504052.0432   0.0000 1.0000 -8827779.3662 8827780.2122\n",
      "selfemp_yes -0.4742 4504052.0432  -0.0000 1.0000 -8827780.2634 8827779.3150\n",
      "===========================================================================\n",
      "\n"
     ]
    }
   ],
   "source": [
    "X = data.drop('card', axis=1)\n",
    "y = data['card']\n",
    "import statsmodels.api as sm\n",
    "\n",
    "logit_model = sm.Logit(y, X)\n",
    "result = logit_model.fit()\n",
    "print(result.summary2())"
   ]
  },
  {
   "cell_type": "markdown",
   "metadata": {},
   "source": [
    "- P-value ≤ α: The association is statistically significant.\n",
    "- P-value > α: The association is not statistically significant\n",
    "### In our case for an a= 0.05 we will continue only with 'reports', 'income' and 'active' variables"
   ]
  },
  {
   "cell_type": "code",
   "execution_count": 307,
   "metadata": {},
   "outputs": [
    {
     "name": "stdout",
     "output_type": "stream",
     "text": [
      "              precision    recall  f1-score   support\n",
      "\n",
      "           0       0.85      0.46      0.59        48\n",
      "           1       0.88      0.98      0.92       189\n",
      "\n",
      "    accuracy                           0.87       237\n",
      "   macro avg       0.86      0.72      0.76       237\n",
      "weighted avg       0.87      0.87      0.86       237\n",
      "\n"
     ]
    }
   ],
   "source": [
    "cols = ['reports', 'income', 'active']\n",
    "X = data[cols]\n",
    "y = data['card']\n",
    "\n",
    "X_new_train_str, X_new_test_str, y_new_train_str, y_new_test_str = train_test_split(\n",
    "    X, y, test_size=0.2, random_state=42, shuffle=True, stratify=y_original)\n",
    "\n",
    "lr = LogisticRegression(max_iter=300)\n",
    "lr = lr.fit(X_new_train_str, y_new_train_str)\n",
    "\n",
    "\n",
    "y_true, y_pred = y_new_test_str, lr.predict(X_new_test_str)\n",
    "print(classification_report(y_true, y_pred))\n",
    "\n"
   ]
  }
 ],
 "metadata": {
  "kernelspec": {
   "display_name": "Python 3",
   "language": "python",
   "name": "python3"
  },
  "language_info": {
   "codemirror_mode": {
    "name": "ipython",
    "version": 3
   },
   "file_extension": ".py",
   "mimetype": "text/x-python",
   "name": "python",
   "nbconvert_exporter": "python",
   "pygments_lexer": "ipython3",
   "version": "3.7.6"
  }
 },
 "nbformat": 4,
 "nbformat_minor": 4
}
